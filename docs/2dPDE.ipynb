{
 "cells": [
  {
   "cell_type": "markdown",
   "metadata": {},
   "source": [
    "# Solve 2D PDE on regular & irregular domain\n",
    "First we introduce all the environment variables:"
   ]
  },
  {
   "cell_type": "code",
   "execution_count": 1,
   "metadata": {},
   "outputs": [],
   "source": [
    "import sys, numpy as np\n",
    "sys.path.append(\"../src/\")\n",
    "import fdm.solver.fdm_solver as FDM\n",
    "import util.diff_operator_expression.diff_op_expression as Expr\n",
    "from util.diff_operators.impl import d2dx, d2dy, ddt, laplacian2d\n",
    "from util.domain_conditions.impl.dirichlet import dirichlet_bc as Dirichlet_BC, dirichlet_rectangle as Dirichlet_rectangle\n",
    "from util.domain_conditions.core.domain import domain as Domain"
   ]
  },
  {
   "cell_type": "markdown",
   "metadata": {},
   "source": [
    "## Regular Domain\n",
    "Let's introduce the 2D PDE that we're gonna solve:  \n",
    "$\\nabla^2 u = \\frac{2}{(1+x)^3} + \\frac{2}{(1+y)^3}$ whose boundary conditions are  \n",
    "$u(x, 0) = 1+\\frac{1}{1+x}$ for $x\\in [0,1]$,  \n",
    "$u(x,1)=\\frac{1}{2}+\\frac{1}{1+x}$ for $x\\in[0, 1]$,  \n",
    "$u(0, y) = 1+\\frac{1}{1+y}$ for $y\\in[0,1]$,  \n",
    "$u(1, y)=\\frac{1}{2}+\\frac{1}{1+y}$ for $y\\in[0,1]$.  \n",
    "Then we define our Dirichlet boundary condition."
   ]
  },
  {
   "cell_type": "code",
   "execution_count": 2,
   "metadata": {},
   "outputs": [],
   "source": [
    "domain = Domain.domain(np.array([0, 0]), np.array([1, 1]))\n",
    "inDomain = lambda x, y: 0 < x < 1 and 0 < y < 1\n",
    "onBoundary = lambda x, y: abs(x-1) < np.spacing(1) or abs(x) < np.spacing(1) or abs(y-1) < np.spacing(1) or abs(y) < np.spacing(1)\n",
    "getBoundaryValue = lambda x, y: 1/(1+x) + 1/(1+y) # You can verify that this gives us the boundary conditions\n",
    "\n",
    "dirichlet = Dirichlet_BC.dirichlet_bc(inDomain, onBoundary, getBoundaryValue, domain) # Boundary condition class"
   ]
  },
  {
   "cell_type": "markdown",
   "metadata": {},
   "source": [
    "Now we are able to define our solver. Note that we will define the solver on four domains which are discretized differently. And fortunately, we have an analytical solution to this problem, which is $u(x, y) = \\frac{1}{1+x}+\\frac{1}{1+y}$."
   ]
  },
  {
   "cell_type": "code",
   "execution_count": 3,
   "metadata": {},
   "outputs": [
    {
     "name": "stdout",
     "output_type": "stream",
     "text": [
      " n max_error\n",
      " 9 0.000554\n",
      "19 0.000140\n",
      "39 0.000035\n",
      "79 0.000009\n"
     ]
    }
   ],
   "source": [
    "f = lambda x, y: 2/(1+x)**3 + 2/(1+y)**3 # this is the function on the right hand side of our PDE\n",
    "error = [] # Use this array to record the errors of our approximation.\n",
    "for n in [9, 19, 39, 79]:\n",
    "    dx, dy = 1/(n+1), 1/(n+1) # each grid's length\n",
    "    expression = Expr.diff_operator_expression([laplacian2d.laplacian2d(dx, dy, coefficient=1)]) # we only have a laplacian operator in our PDE\n",
    "    solver = FDM.fdm_solver(expression, f, dirichlet) # Insert the operator expression, function on the right hand side and the boundary condition into our solver\n",
    "    u = solver.solve(n, n) # n represents grid point numbers. In this case, we have n points in both x and y axis.\n",
    "    \n",
    "    # We get the approximated solution. Then we compare it with the analytical solution.\n",
    "    correct_function = lambda x, y: 1/(1+x) + 1/(1+y)\n",
    "    correct_solution = np.zeros(n**2)\n",
    "    for j in range(0, n):\n",
    "        y = (j+1)/(n+1)\n",
    "        for i in range(0, n):\n",
    "            x = (i+1)/(n+1)\n",
    "            correct_solution[j*n+i] = correct_function(x, y)\n",
    "    error.append(max(abs(correct_solution-u)))\n",
    "print(\" n\", \"max_error\")\n",
    "for index, n in enumerate([9, 19, 39, 79]):\n",
    "    print(\"{:2d} {:f}\".format(n, error[index]))"
   ]
  },
  {
   "cell_type": "code",
   "execution_count": null,
   "metadata": {},
   "outputs": [],
   "source": []
  }
 ],
 "metadata": {
  "kernelspec": {
   "display_name": "Python 3",
   "language": "python",
   "name": "python3"
  },
  "language_info": {
   "codemirror_mode": {
    "name": "ipython",
    "version": 3
   },
   "file_extension": ".py",
   "mimetype": "text/x-python",
   "name": "python",
   "nbconvert_exporter": "python",
   "pygments_lexer": "ipython3",
   "version": "3.7.1"
  }
 },
 "nbformat": 4,
 "nbformat_minor": 2
}
