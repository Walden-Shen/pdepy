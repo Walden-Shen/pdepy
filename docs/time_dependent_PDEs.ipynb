{
 "cells": [
  {
   "cell_type": "markdown",
   "metadata": {},
   "source": [
    "# Time-dependent PDEs\n",
    "## Types of Time-dependent PDEs that the solver supports\n",
    "This is a solver for linear (constant/variable coefficient) time-dependent 1D/2D PDEs, i.e., PDEs that can be written in the form of $\\mathcal{L}u=f$, where $\\mathcal{L}$ is a linear combination of $\\{\\frac{\\partial}{\\partial t}, \\frac{\\partial^2}{\\partial x}, \\frac{\\partial^2}{\\partial y}, \\dots\\}$ whose coefficients __can be either a constant or a function $g(x, y)$__. Additionally, users are free to add any other operators.   \n",
    "Note: For 1D problems, the Crank-Nicolson method is used by default. For 2D problems, the explicit method is applied. This means that users have to apply smaller time steps when they are solving 2D problems, while there is no such constraint for 1D problems.  \n",
    "  \n",
    "Before we begin, let's introduce all the environment variables:"
   ]
  },
  {
   "cell_type": "code",
   "execution_count": 1,
   "metadata": {},
   "outputs": [],
   "source": [
    "import sys, math, numpy as np\n",
    "sys.path.append(\"../src/\")\n",
    "import fdm.solver.fdm_solver as FDM\n",
    "import util.diff_operator_expression.diff_op_expression as Expr\n",
    "from util.diff_operators.impl import ddt, time_dependent_d2dx, time_dependent_d2dy\n",
    "from util.domain_conditions.impl.dirichlet import dirichlet_bc as Dirichlet_BC, dirichlet_rectangle as Dirichlet_rectangle\n",
    "from util.domain_conditions.core.domain import domain as Domain"
   ]
  },
  {
   "cell_type": "markdown",
   "metadata": {},
   "source": [
    "## 1D Heat Equation Example\n",
    "Here is the 1D heat equation that we are trying to solve:  \n",
    "$\\pi u_t-u_{xx} = 0$ whose domain is $[0, 1]\\times[0, 1]$ with boundary conditions $u(x, 0) = \\cos\\pi x$, $u(0, t) = e^{-\\pi t}$, $u(1, t) = -e^{-\\pi t}$.  \n",
    "Firstly, we define its boundary conditions in our solver."
   ]
  },
  {
   "cell_type": "code",
   "execution_count": 2,
   "metadata": {},
   "outputs": [],
   "source": [
    "domain = Domain.domain(np.array([0, 0]), np.array([1, 1]))\n",
    "inDomain = lambda x, y: 0 < x < 1 and 0 < y < 1\n",
    "onBoundary = lambda x, y: abs(x-1) < np.spacing(1) or abs(x) < np.spacing(1) or abs(y) < np.spacing(1)\n",
    "def getBoundaryValue(x, t):\n",
    "    if abs(x) < np.spacing(1):\n",
    "        return math.exp(-math.pi*t)\n",
    "    elif abs(x-1) < np.spacing(1):\n",
    "        return -math.exp(-math.pi*t)\n",
    "    else:\n",
    "        return math.cos(math.pi*x)\n",
    "dirichlet = Dirichlet_BC.dirichlet_bc(inDomain, onBoundary, getBoundaryValue, domain) # Boundary condition class"
   ]
  },
  {
   "cell_type": "markdown",
   "metadata": {},
   "source": [
    "Now we are able to define our solver. Note that we will define the solver on four domains which are discretized in different scales. "
   ]
  },
  {
   "cell_type": "code",
   "execution_count": null,
   "metadata": {},
   "outputs": [],
   "source": [
    "f = lambda x, y: 0 # this is the function on the right hand side of our PDE"
   ]
  }
 ],
 "metadata": {
  "kernelspec": {
   "display_name": "Python 3",
   "language": "python",
   "name": "python3"
  },
  "language_info": {
   "codemirror_mode": {
    "name": "ipython",
    "version": 3
   },
   "file_extension": ".py",
   "mimetype": "text/x-python",
   "name": "python",
   "nbconvert_exporter": "python",
   "pygments_lexer": "ipython3",
   "version": "3.7.1"
  }
 },
 "nbformat": 4,
 "nbformat_minor": 2
}
